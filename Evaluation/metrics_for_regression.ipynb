{
 "cells": [
  {
   "cell_type": "code",
   "execution_count": 2,
   "metadata": {},
   "outputs": [],
   "source": [
    "import numpy as np"
   ]
  },
  {
   "cell_type": "code",
   "execution_count": 3,
   "metadata": {},
   "outputs": [],
   "source": [
    "# data\n",
    "\n",
    "y_true = np.array([100, 150, 200, 250, 300, 350, 400, 450, 500, 550])\n",
    "y_pred = np.array([110, 155, 190, 240, 310, 350, 410, 460, 495, 530])"
   ]
  },
  {
   "cell_type": "code",
   "execution_count": 4,
   "metadata": {},
   "outputs": [
    {
     "name": "stdout",
     "output_type": "stream",
     "text": [
      "Mean Absolute Error (MAE): 9.0\n"
     ]
    }
   ],
   "source": [
    "#Mean Absolute Error (MAE)\n",
    "\n",
    "mae = np.mean(np.abs(y_true - y_pred))\n",
    "print(\"Mean Absolute Error (MAE):\", mae)# mae\n"
   ]
  },
  {
   "cell_type": "code",
   "execution_count": 5,
   "metadata": {},
   "outputs": [
    {
     "name": "stdout",
     "output_type": "stream",
     "text": [
      "Mean Squared Error (MSE): 105.0\n"
     ]
    }
   ],
   "source": [
    "# Mean Squared Error (MSE)\n",
    "\n",
    "mse = np.mean((y_true - y_pred) ** 2)\n",
    "print(\"Mean Squared Error (MSE):\", mse)"
   ]
  },
  {
   "cell_type": "code",
   "execution_count": 6,
   "metadata": {},
   "outputs": [
    {
     "name": "stdout",
     "output_type": "stream",
     "text": [
      "Root Mean Squared Error (RMSE): 10.246950765959598\n"
     ]
    }
   ],
   "source": [
    "# Root Mean Squared Error (RMSE)\n",
    "\n",
    "rmse = np.sqrt(mse)\n",
    "print(\"Root Mean Squared Error (RMSE):\", rmse)"
   ]
  },
  {
   "cell_type": "code",
   "execution_count": 8,
   "metadata": {},
   "outputs": [
    {
     "name": "stdout",
     "output_type": "stream",
     "text": [
      "Mean Absolute Percentage Error (MAPE): 3.502525252525253\n"
     ]
    }
   ],
   "source": [
    "# Mean Absolute Percentage Error (MAPE)\n",
    "\n",
    "mape = np.mean(np.abs((y_true - y_pred) / y_true)) * 100\n",
    "print(\"Mean Absolute Percentage Error (MAPE):\", mape)"
   ]
  },
  {
   "cell_type": "code",
   "execution_count": 9,
   "metadata": {},
   "outputs": [
    {
     "name": "stdout",
     "output_type": "stream",
     "text": [
      "R-squared (R²): 0.9949090909090909\n"
     ]
    }
   ],
   "source": [
    "# R-squared (R²)\n",
    "\n",
    "ssr = np.sum((y_true - y_pred) ** 2)\n",
    "sst = np.sum((y_true - np.mean(y_true)) ** 2)\n",
    "r_squared = 1 - (ssr / sst)\n",
    "\n",
    "print(\"R-squared (R²):\", r_squared)"
   ]
  },
  {
   "cell_type": "code",
   "execution_count": 11,
   "metadata": {},
   "outputs": [
    {
     "name": "stdout",
     "output_type": "stream",
     "text": [
      "Adjusted R-squared (Adj. R²): 0.9942727272727272\n"
     ]
    }
   ],
   "source": [
    "# Adjusted R-squared (Adj. R²)\n",
    "\n",
    "n = len(y_true)\n",
    "k = 1  # Replace with the number of predictors\n",
    "adj_r_squared = 1 - ((1 - r_squared) * (n - 1) / (n - k - 1))\n",
    "\n",
    "print(\"Adjusted R-squared (Adj. R²):\", adj_r_squared)"
   ]
  },
  {
   "cell_type": "code",
   "execution_count": 12,
   "metadata": {},
   "outputs": [
    {
     "name": "stdout",
     "output_type": "stream",
     "text": [
      "Coefficient of Correlation (Pearson's r): 0.9976194970867468\n"
     ]
    }
   ],
   "source": [
    "# Coefficient of Correlation (Pearson's r)\n",
    "\n",
    "r = np.corrcoef(y_true, y_pred)[0, 1]\n",
    "print(\"Coefficient of Correlation (Pearson's r):\", r)"
   ]
  },
  {
   "cell_type": "code",
   "execution_count": 13,
   "metadata": {},
   "outputs": [
    {
     "name": "stdout",
     "output_type": "stream",
     "text": [
      "Mean Bias Deviation (MBD): 0.0\n"
     ]
    }
   ],
   "source": [
    "# Mean Bias Deviation (MBD)\n",
    "\n",
    "mbd = np.mean(y_true - y_pred)\n",
    "print(\"Mean Bias Deviation (MBD):\", mbd)"
   ]
  },
  {
   "cell_type": "code",
   "execution_count": 14,
   "metadata": {},
   "outputs": [
    {
     "name": "stdout",
     "output_type": "stream",
     "text": [
      "Median Absolute Error (MedAE): 10.0\n"
     ]
    }
   ],
   "source": [
    "# Median Absolute Error (MedAE)\n",
    "\n",
    "medae = np.median(np.abs(y_true - y_pred))\n",
    "\n",
    "print(\"Median Absolute Error (MedAE):\", medae)"
   ]
  },
  {
   "cell_type": "code",
   "execution_count": 15,
   "metadata": {},
   "outputs": [
    {
     "name": "stdout",
     "output_type": "stream",
     "text": [
      "Explained Variance Score: 0.9949090909090909\n"
     ]
    }
   ],
   "source": [
    "# Explained Variance Score\n",
    "\n",
    "explained_variance = 1 - (np.var(y_true - y_pred) / np.var(y_true))\n",
    "\n",
    "print(\"Explained Variance Score:\", explained_variance)"
   ]
  }
 ],
 "metadata": {
  "kernelspec": {
   "display_name": "Python 3",
   "language": "python",
   "name": "python3"
  },
  "language_info": {
   "codemirror_mode": {
    "name": "ipython",
    "version": 3
   },
   "file_extension": ".py",
   "mimetype": "text/x-python",
   "name": "python",
   "nbconvert_exporter": "python",
   "pygments_lexer": "ipython3",
   "version": "3.10.12"
  }
 },
 "nbformat": 4,
 "nbformat_minor": 2
}
